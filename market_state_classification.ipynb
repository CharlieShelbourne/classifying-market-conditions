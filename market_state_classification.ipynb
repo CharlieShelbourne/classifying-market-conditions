{
 "cells": [
  {
   "cell_type": "code",
   "execution_count": null,
   "metadata": {},
   "outputs": [],
   "source": [
    "import pandas as pd\n",
    "import plotly.express as px\n",
    "import talib as ta\n",
    "import zipfile\n",
    "import os\n",
    "\n",
    "from sklearn.cluster import KMeans\n",
    "from histdata import download_hist_data as dl"
   ]
  },
  {
   "cell_type": "code",
   "execution_count": null,
   "metadata": {},
   "outputs": [],
   "source": [
    "\n",
    "dl(year=\"2022\", month=1, pair=\"eurusd\")\n",
    "\n",
    "with zipfile.ZipFile(\"./DAT_ASCII_EURUSD_M1_202201.zip\", 'r') as zip_ref:\n",
    "    zip_ref.extractall(\"./data\")\n",
    "\n",
    "os.remove(\"./DAT_ASCII_EURUSD_M1_202201.zip\")\n",
    "    \n",
    "df = pd.read_csv(\"./data/DAT_ASCII_EURUSD_M1_202201.csv\", sep=\";\", names= [\"date_time\", \"open\", \"high\", \"low\", \"close\", \"volume\"])\n",
    "    "
   ]
  },
  {
   "cell_type": "code",
   "execution_count": null,
   "metadata": {},
   "outputs": [],
   "source": [
    "df_melt = df.iloc[30000:].melt(id_vars=\"date_time\",value_vars=[\"open\", \"high\", \"low\", \"close\"], value_name=\"price\", var_name=\"price_point\")"
   ]
  },
  {
   "cell_type": "code",
   "execution_count": null,
   "metadata": {},
   "outputs": [],
   "source": [
    "fig = px.line(df_melt, x=\"date_time\", y=\"price\", color=\"price_point\", title=\"EURUSD Price Time Series\")\n",
    "\n",
    "fig.update_layout(height=500, width=1000)\n",
    "fig.write_image(\"price.png\")\n",
    "fig.show()"
   ]
  },
  {
   "cell_type": "code",
   "execution_count": null,
   "metadata": {},
   "outputs": [],
   "source": [
    "cci = ta.CCI(df.high, df.low, df.close, timeperiod=14)\n",
    "ht = ta.HT_DCPHASE(df.close)\n",
    "aroon = ta.AROONOSC(df.high, df.low, timeperiod=14)\n",
    "\n",
    "ta_df = pd.DataFrame({\"date_time\": df[\"date_time\"].to_list(), \"cci\": cci, \"aroon\": aroon, \"ht\": ht})\n",
    "ta_df = ta_df.dropna()\n",
    "df = df.loc[ta_df.index, :]"
   ]
  },
  {
   "cell_type": "code",
   "execution_count": null,
   "metadata": {},
   "outputs": [],
   "source": [
    "df_melt = df.iloc[1300:1600].melt(id_vars=\"date_time\",value_vars=[\"open\", \"high\", \"low\", \"close\"], value_name=\"price\", var_name=\"price_point\")\n",
    "ta_melt = ta_df.iloc[1300:1600].melt(id_vars=\"date_time\",value_vars=[\"cci\", \"aroon\", \"ht\"], value_name=\"price\", var_name=\"price_point\")\n",
    "df_melt = pd.concat([df_melt, ta_melt])"
   ]
  },
  {
   "cell_type": "code",
   "execution_count": null,
   "metadata": {},
   "outputs": [],
   "source": [
    "from plotly.subplots import make_subplots\n",
    "import plotly.graph_objects as go\n",
    "\n",
    "fig = make_subplots(rows=4, cols=1, shared_xaxes=True)\n",
    "\n",
    "fig.add_trace(\n",
    "    go.Scatter(x=df_melt[df_melt.price_point == \"close\"][\"date_time\"], y=df_melt[df_melt.price_point == \"close\"][\"price\"], name=\"EURUSD close\"),\n",
    "    row=1, col=1\n",
    ")\n",
    "\n",
    "fig.add_trace(\n",
    "    go.Scatter(x=df_melt[df_melt.price_point == \"cci\"][\"date_time\"], y=df_melt[df_melt.price_point == \"cci\"][\"price\"], name=\"cci\"),\n",
    "    row=2, col=1\n",
    ")\n",
    "\n",
    "fig.add_trace(\n",
    "    go.Scatter(x=df_melt[df_melt.price_point == \"aroon\"][\"date_time\"], y=df_melt[df_melt.price_point == \"aroon\"][\"price\"], name=\"aroon\"),\n",
    "    row=3, col=1\n",
    ")\n",
    "\n",
    "fig.add_trace(\n",
    "    go.Scatter(x=df_melt[df_melt.price_point == \"ht\"][\"date_time\"], y=df_melt[df_melt.price_point == \"ht\"][\"price\"], name=\"htdp\"),\n",
    "    row=4, col=1\n",
    ")\n",
    "\n",
    "\n",
    "\n",
    "fig.update_layout(height=600, width=800, title_text=\"Technical Analysis\")\n",
    "fig.write_image(\"ta.png\")\n",
    "fig.show()\n"
   ]
  },
  {
   "cell_type": "code",
   "execution_count": null,
   "metadata": {},
   "outputs": [],
   "source": [
    "ta_df.pop(\"date_time\")"
   ]
  },
  {
   "cell_type": "code",
   "execution_count": null,
   "metadata": {},
   "outputs": [],
   "source": [
    "from sklearn.metrics import silhouette_score\n",
    "\n",
    "inertia = []\n",
    "sil_score = []\n",
    "\n",
    "for n_clusters in range(2,14):\n",
    "    kmeans = KMeans(n_clusters=n_clusters, random_state=0)\n",
    "    preds = kmeans.fit_predict(ta_df)\n",
    "    inertia.append(kmeans.inertia_ / n_clusters)\n",
    "    sil_score.append(silhouette_score(ta_df, preds))\n",
    "\n",
    "\n",
    "inertias = pd.DataFrame({\"n_clusters\": range(2,14), \"inertia\": inertia})\n",
    "silhouette_scores = pd.DataFrame({\"n_clusters\": range(2,14), \"silhouette_score\": sil_score})\n",
    "fig = px.line(silhouette_scores, x=\"n_clusters\", y=\"silhouette_score\", title=\"Clustering Silhouette Score\")\n",
    "\n",
    "fig.update_layout(height=500, width=900)\n",
    "fig.write_image(\"silhouette.png\")\n",
    "fig.show()"
   ]
  },
  {
   "cell_type": "code",
   "execution_count": null,
   "metadata": {},
   "outputs": [],
   "source": [
    "import numpy as np\n",
    "\n",
    "train_df = ta_df.iloc[:30000]\n",
    "test_df = ta_df.iloc[30000:]\n",
    "\n",
    "\n",
    "kmeans = KMeans(n_clusters=3).fit(train_df)\n",
    "\n",
    "train_labels = kmeans.labels_\n",
    "train_df[\"label\"] = train_labels\n",
    "\n",
    "test_labels = kmeans.predict(test_df)\n",
    "\n",
    "df[\"label\"] = np.concatenate((train_labels, test_labels))\n",
    "ta_df[\"label\"] = df[\"label\"]\n"
   ]
  },
  {
   "cell_type": "code",
   "execution_count": null,
   "metadata": {},
   "outputs": [],
   "source": [
    "ta_melt = ta_df.melt(id_vars=[\"label\"],value_vars=[\"cci\", \"aroon\", \"ht\"], value_name=\"value\", var_name=\"indicator\")"
   ]
  },
  {
   "cell_type": "code",
   "execution_count": null,
   "metadata": {},
   "outputs": [],
   "source": [
    "ta_melt = ta_melt.sort_values(by=\"label\")"
   ]
  },
  {
   "cell_type": "code",
   "execution_count": null,
   "metadata": {},
   "outputs": [],
   "source": [
    "fig = px.box(ta_melt, x=\"indicator\", y=\"value\", color=\"label\", title=\"Technical Indicator Box Plot by Cluster\")\n",
    "\n",
    "fig.update_layout(height=500, width=900)\n",
    "fig.write_image(\"box.png\")\n",
    "fig.show()"
   ]
  },
  {
   "cell_type": "code",
   "execution_count": null,
   "metadata": {},
   "outputs": [],
   "source": [
    "prev_label = df.iloc[0].label\n",
    "trace_ids = [0]\n",
    "for i, row in df.iterrows():\n",
    "    \n",
    "    if row.label != prev_label:\n",
    "        trace_ids.append(trace_ids[-1] + 1)\n",
    "    else:\n",
    "        trace_ids.append(trace_ids[-1])\n",
    "\n",
    "    prev_label = row.label\n",
    "\n",
    "df[\"trace\"] = trace_ids[1:]"
   ]
  },
  {
   "cell_type": "code",
   "execution_count": null,
   "metadata": {},
   "outputs": [],
   "source": [
    "import plotly.graph_objects as go\n",
    "\n",
    "df_short = df.iloc[2100:2500]\n",
    "\n",
    "fig = go.Figure()\n",
    "\n",
    "legend_groups = set()\n",
    "\n",
    "label_color = {0: 'blue',\n",
    "       1: 'red',\n",
    "       2: 'green',\n",
    "       3: \"purple\",\n",
    "       4: \"orange\"\n",
    "       }\n",
    "\n",
    "for trace, idx in df_short.groupby([\"trace\"]).groups.items():\n",
    "       fig.add_traces(go.Scatter(x=df_short.loc[idx, \"date_time\"],\n",
    "                     y=df_short.loc[idx, \"close\"],\n",
    "                     mode = 'lines',\n",
    "                     marker = dict(color=label_color[df_short.loc[idx, \"label\"].iloc[0]]),\n",
    "                     name = str(df_short.loc[idx, \"label\"].iloc[0]),\n",
    "                     legendgroup = str(df_short.loc[idx, \"label\"].iloc[0]),\n",
    "                     showlegend = False if df_short.loc[idx, \"label\"].iloc[0] in legend_groups else True))\n",
    "       legend_groups.add(df_short.loc[idx, \"label\"].iloc[0])\n",
    "\n",
    "                     \n",
    "fig.update_layout(\n",
    "       xaxis_title = \"date-time\",\n",
    "       yaxis_title = \"EURUSD\",\n",
    "       height=600, \n",
    "       width=1300, \n",
    "       title_text=\"EURUSD Time Series with Cluster Colors\",\n",
    "       font=dict(\n",
    "        size=18\n",
    "       ))\n",
    "fig.write_image(\"cluster.png\")\n",
    "fig.show()"
   ]
  },
  {
   "cell_type": "code",
   "execution_count": null,
   "metadata": {},
   "outputs": [],
   "source": [
    "df_short = df.iloc[30000:]\n",
    "\n",
    "fig = go.Figure()\n",
    "\n",
    "legend_groups = set()\n",
    "\n",
    "label_color = {0: 'blue',\n",
    "       1: 'red',\n",
    "       2: 'green',\n",
    "       3: \"purple\",\n",
    "       4: \"orange\"\n",
    "       }\n",
    "\n",
    "for trace, idx in df_short.groupby([\"trace\"]).groups.items():\n",
    "       fig.add_traces(go.Scatter(x=df_short.loc[idx, \"date_time\"],\n",
    "                     y=df_short.loc[idx, \"close\"],\n",
    "                     mode = 'lines',\n",
    "                     marker = dict(color=label_color[df_short.loc[idx, \"label\"].iloc[0]]),\n",
    "                     name = str(df_short.loc[idx, \"label\"].iloc[0]),\n",
    "                     legendgroup = str(df_short.loc[idx, \"label\"].iloc[0]),\n",
    "                     showlegend = False if df_short.loc[idx, \"label\"].iloc[0] in legend_groups else True))\n",
    "       legend_groups.add(df_short.loc[idx, \"label\"].iloc[0])\n",
    "\n",
    "                     \n",
    "fig.update_layout(\n",
    "       xaxis_title = \"date-time\",\n",
    "       yaxis_title = \"EURUSD\",\n",
    "       height=600, \n",
    "       width=1300, \n",
    "       title_text=\"Test Set - EURUSD Time Series with Cluster Colors\",\n",
    "       font=dict(\n",
    "        size=18\n",
    "       ))\n",
    "fig.write_image(\"cluster_test.png\")\n",
    "fig.show()"
   ]
  },
  {
   "cell_type": "code",
   "execution_count": null,
   "metadata": {},
   "outputs": [],
   "source": []
  }
 ],
 "metadata": {
  "interpreter": {
   "hash": "9c545ec0532d912852caa4456ba4652874d552f06b004fc77c1adfe91b88f6d4"
  },
  "kernelspec": {
   "display_name": "Python 3.10.2 64-bit ('predicting-market-conditions')",
   "language": "python",
   "name": "python3"
  },
  "language_info": {
   "codemirror_mode": {
    "name": "ipython",
    "version": 3
   },
   "file_extension": ".py",
   "mimetype": "text/x-python",
   "name": "python",
   "nbconvert_exporter": "python",
   "pygments_lexer": "ipython3",
   "version": "3.10.2"
  },
  "orig_nbformat": 4
 },
 "nbformat": 4,
 "nbformat_minor": 2
}
